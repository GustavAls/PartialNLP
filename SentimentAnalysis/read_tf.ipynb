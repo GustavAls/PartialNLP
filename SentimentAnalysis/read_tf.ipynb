{
 "cells": [
  {
   "cell_type": "code",
   "execution_count": 3,
   "metadata": {
    "collapsed": true,
    "ExecuteTime": {
     "start_time": "2023-11-15T08:56:41.025632Z",
     "end_time": "2023-11-15T08:56:41.046642Z"
    }
   },
   "outputs": [],
   "source": [
    "import tensorflow as tf\n",
    "import numpy as np\n",
    "import pickle\n",
    "import torch\n",
    "from tensorflow.python.summary.summary_iterator import summary_iterator"
   ]
  },
  {
   "cell_type": "code",
   "execution_count": 10,
   "outputs": [
    {
     "name": "stdout",
     "output_type": "stream",
     "text": [
      "tag: \"eval/loss\"\n",
      "simple_value: 0.266435713\n",
      "\n",
      "tag: \"eval/accuracy\"\n",
      "simple_value: 0.8926\n",
      "\n",
      "tag: \"eval/f1\"\n",
      "simple_value: 0.894212186\n",
      "\n",
      "tag: \"eval/loss\"\n",
      "simple_value: 0.491078287\n",
      "\n",
      "tag: \"eval/accuracy\"\n",
      "simple_value: 0.83004\n",
      "\n",
      "tag: \"eval/f1\"\n",
      "simple_value: 0.852828085\n",
      "\n",
      "tag: \"eval/loss\"\n",
      "simple_value: 0.320265651\n",
      "\n",
      "tag: \"eval/accuracy\"\n",
      "simple_value: 0.90304\n",
      "\n",
      "tag: \"eval/f1\"\n",
      "simple_value: 0.904303193\n",
      "\n",
      "tag: \"eval/loss\"\n",
      "simple_value: 0.488236874\n",
      "\n",
      "tag: \"eval/accuracy\"\n",
      "simple_value: 0.8902\n",
      "\n",
      "tag: \"eval/f1\"\n",
      "simple_value: 0.896348596\n",
      "\n",
      "tag: \"eval/loss\"\n",
      "simple_value: 0.486643553\n",
      "\n",
      "tag: \"eval/accuracy\"\n",
      "simple_value: 0.9014\n",
      "\n",
      "tag: \"eval/f1\"\n",
      "simple_value: 0.903055787\n",
      "\n",
      "tag: \"eval/loss\"\n",
      "simple_value: 0.518291652\n",
      "\n",
      "tag: \"eval/accuracy\"\n",
      "simple_value: 0.90184\n",
      "\n",
      "tag: \"eval/f1\"\n",
      "simple_value: 0.900211453\n",
      "\n",
      "tag: \"eval/loss\"\n",
      "simple_value: 0.539032459\n",
      "\n",
      "tag: \"eval/accuracy\"\n",
      "simple_value: 0.90048\n",
      "\n",
      "tag: \"eval/f1\"\n",
      "simple_value: 0.900056243\n",
      "\n",
      "tag: \"eval/loss\"\n",
      "simple_value: 0.543105483\n",
      "\n",
      "tag: \"eval/accuracy\"\n",
      "simple_value: 0.901\n",
      "\n",
      "tag: \"eval/f1\"\n",
      "simple_value: 0.90320307\n",
      "\n",
      "tag: \"eval/loss\"\n",
      "simple_value: 0.536935091\n",
      "\n",
      "tag: \"eval/accuracy\"\n",
      "simple_value: 0.90332\n",
      "\n",
      "tag: \"eval/f1\"\n",
      "simple_value: 0.904703677\n",
      "\n",
      "tag: \"eval/loss\"\n",
      "simple_value: 0.536780715\n",
      "\n",
      "tag: \"eval/accuracy\"\n",
      "simple_value: 0.90436\n",
      "\n",
      "tag: \"eval/f1\"\n",
      "simple_value: 0.905460417\n",
      "\n"
     ]
    }
   ],
   "source": [
    "path_to_events_file = r\"C:\\Users\\45292\\Downloads\\events.out.tfevents.1699976865.n-62-20-5.12997.0\"\n",
    "\n",
    "for e in summary_iterator(path_to_events_file):\n",
    "    for v in e.summary.value:\n",
    "        if v.tag == 'eval/loss' or v.tag == 'eval/accuracy' or v.tag == 'eval/f1':\n",
    "            print(v)"
   ],
   "metadata": {
    "collapsed": false,
    "ExecuteTime": {
     "start_time": "2023-11-15T08:59:59.042615Z",
     "end_time": "2023-11-15T08:59:59.058615Z"
    }
   }
  },
  {
   "cell_type": "code",
   "execution_count": 1,
   "outputs": [],
   "source": [
    "import cv2"
   ],
   "metadata": {
    "collapsed": false,
    "ExecuteTime": {
     "start_time": "2023-11-23T16:06:09.181428Z",
     "end_time": "2023-11-23T16:06:09.409399Z"
    }
   }
  },
  {
   "cell_type": "code",
   "execution_count": 3,
   "outputs": [],
   "source": [
    "import cv2\n",
    "import numpy as np\n",
    "import os\n",
    "\n",
    "\n",
    "# Create a VideoCapture object and read from input file\n",
    "cap = cv2.VideoCapture(r\"C:\\Users\\45292\\Documents\\D128_3508.avi\")\n",
    "outpath = r'C:\\Users\\45292\\Documents\\Blood Cells\\D128_3508'\n",
    "# Check if camera opened successfully\n",
    "if (cap.isOpened()== False):\n",
    "    print(\"Error opening video file\")\n",
    "\n",
    "# Read until video is completed\n",
    "counter = 0\n",
    "while(cap.isOpened()):\n",
    "\n",
    "# Capture frame-by-frame\n",
    "    ret, frame = cap.read()\n",
    "    if ret == True:\n",
    "    # Display the resulting frame\n",
    "        cv2.imwrite(os.path.join(outpath, f\"{counter}.png\"), frame)\n",
    "        counter += 1\n",
    "# Break the loop\n",
    "    else:\n",
    "        break\n",
    "\n",
    "# When everything done, release\n",
    "# the video capture object\n",
    "cap.release()\n",
    "\n",
    "# Closes all the frames\n",
    "cv2.destroyAllWindows()\n"
   ],
   "metadata": {
    "collapsed": false,
    "ExecuteTime": {
     "start_time": "2023-11-23T16:10:31.283571Z",
     "end_time": "2023-11-23T16:10:31.517472Z"
    }
   }
  }
 ],
 "metadata": {
  "kernelspec": {
   "display_name": "Python 3",
   "language": "python",
   "name": "python3"
  },
  "language_info": {
   "codemirror_mode": {
    "name": "ipython",
    "version": 2
   },
   "file_extension": ".py",
   "mimetype": "text/x-python",
   "name": "python",
   "nbconvert_exporter": "python",
   "pygments_lexer": "ipython2",
   "version": "2.7.6"
  }
 },
 "nbformat": 4,
 "nbformat_minor": 0
}
